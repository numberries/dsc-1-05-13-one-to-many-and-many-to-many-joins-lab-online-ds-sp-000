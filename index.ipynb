{
 "cells": [
  {
   "cell_type": "markdown",
   "metadata": {},
   "source": [
    "# One-to-Many and Many-to-Many Joins - Lab"
   ]
  },
  {
   "cell_type": "markdown",
   "metadata": {},
   "source": [
    "## Introduction"
   ]
  },
  {
   "cell_type": "markdown",
   "metadata": {},
   "source": [
    "In this lab, you'll practice your knowledge on One-to-Many and Many-to-many relationships!"
   ]
  },
  {
   "cell_type": "markdown",
   "metadata": {},
   "source": [
    "## Objectives"
   ]
  },
  {
   "cell_type": "markdown",
   "metadata": {},
   "source": [
    "You will be able to:\n",
    "- Query data including Many-to-Many relationships\n",
    "- Write queries that make use of Join Tables"
   ]
  },
  {
   "cell_type": "markdown",
   "metadata": {},
   "source": [
    "## One-to-Many and Many-to-Many Joins\n",
    "<img src='Database-Schema.png' width=550>"
   ]
  },
  {
   "cell_type": "code",
   "execution_count": 1,
   "metadata": {},
   "outputs": [],
   "source": [
    "import sqlite3\n",
    "import pandas as pd"
   ]
  },
  {
   "cell_type": "code",
   "execution_count": 2,
   "metadata": {},
   "outputs": [],
   "source": [
    "conn = sqlite3.connect('data.sqlite')\n",
    "cur = conn.cursor()"
   ]
  },
  {
   "cell_type": "markdown",
   "metadata": {},
   "source": [
    "## Employees and their Office (a One-to-One join)\n",
    "\n",
    "Return a list of all of the employees with their first name, last name and the city and state of the office that they work out of (if they have one). Include all employees and order them by their first name, then their last name."
   ]
  },
  {
   "cell_type": "code",
   "execution_count": 8,
   "metadata": {},
   "outputs": [
    {
     "data": {
      "text/plain": [
       "[('Andy', 'Fixter', 'Sydney', ''),\n",
       " ('Anthony', 'Bow', 'San Francisco', 'CA'),\n",
       " ('Barry', 'Jones', 'London', ''),\n",
       " ('Diane', 'Murphy', 'San Francisco', 'CA'),\n",
       " ('Foon Yue', 'Tseng', 'NYC', 'NY'),\n",
       " ('George', 'Vanauf', 'NYC', 'NY'),\n",
       " ('Gerard', 'Bondur', 'Paris', ''),\n",
       " ('Gerard', 'Hernandez', 'Paris', ''),\n",
       " ('Jeff', 'Firrelli', 'San Francisco', 'CA'),\n",
       " ('Julie', 'Firrelli', 'Boston', 'MA'),\n",
       " ('Larry', 'Bott', 'London', ''),\n",
       " ('Leslie', 'Jennings', 'San Francisco', 'CA'),\n",
       " ('Leslie', 'Thompson', 'San Francisco', 'CA'),\n",
       " ('Loui', 'Bondur', 'Paris', ''),\n",
       " ('Mami', 'Nishi', 'Tokyo', 'Chiyoda-Ku'),\n",
       " ('Martin', 'Gerard', 'Paris', ''),\n",
       " ('Mary', 'Patterson', 'San Francisco', 'CA'),\n",
       " ('Pamela', 'Castillo', 'Paris', ''),\n",
       " ('Peter', 'Marsh', 'Sydney', ''),\n",
       " ('Steve', 'Patterson', 'Boston', 'MA'),\n",
       " ('Tom', 'King', 'Sydney', ''),\n",
       " ('William', 'Patterson', 'Sydney', ''),\n",
       " ('Yoshimi', 'Kato', 'Tokyo', 'Chiyoda-Ku')]"
      ]
     },
     "execution_count": 8,
     "metadata": {},
     "output_type": "execute_result"
    }
   ],
   "source": [
    "#Your code here\n",
    "cur.execute('''SELECT firstName, lastName, city, state\n",
    "                FROM employees \n",
    "                JOIN offices \n",
    "                USING(officeCode)\n",
    "                ORDER BY firstName, lastName;''').fetchall()"
   ]
  },
  {
   "cell_type": "markdown",
   "metadata": {},
   "source": [
    "## Customers and their Orders (a One-to-Many join)\n",
    "\n",
    "Return a list of all of the customers. For each customer return a record for each of their order numbers, order dates and statuses."
   ]
  },
  {
   "cell_type": "code",
   "execution_count": 11,
   "metadata": {},
   "outputs": [
    {
     "name": "stdout",
     "output_type": "stream",
     "text": [
      "Number of results 326\n"
     ]
    },
    {
     "data": {
      "text/html": [
       "<div>\n",
       "<style scoped>\n",
       "    .dataframe tbody tr th:only-of-type {\n",
       "        vertical-align: middle;\n",
       "    }\n",
       "\n",
       "    .dataframe tbody tr th {\n",
       "        vertical-align: top;\n",
       "    }\n",
       "\n",
       "    .dataframe thead th {\n",
       "        text-align: right;\n",
       "    }\n",
       "</style>\n",
       "<table border=\"1\" class=\"dataframe\">\n",
       "  <thead>\n",
       "    <tr style=\"text-align: right;\">\n",
       "      <th></th>\n",
       "      <th>0</th>\n",
       "      <th>1</th>\n",
       "      <th>2</th>\n",
       "      <th>3</th>\n",
       "    </tr>\n",
       "  </thead>\n",
       "  <tbody>\n",
       "    <tr>\n",
       "      <th>0</th>\n",
       "      <td>Atelier graphique</td>\n",
       "      <td>10123</td>\n",
       "      <td>2003-05-20</td>\n",
       "      <td>Shipped</td>\n",
       "    </tr>\n",
       "    <tr>\n",
       "      <th>1</th>\n",
       "      <td>Atelier graphique</td>\n",
       "      <td>10298</td>\n",
       "      <td>2004-09-27</td>\n",
       "      <td>Shipped</td>\n",
       "    </tr>\n",
       "    <tr>\n",
       "      <th>2</th>\n",
       "      <td>Atelier graphique</td>\n",
       "      <td>10345</td>\n",
       "      <td>2004-11-25</td>\n",
       "      <td>Shipped</td>\n",
       "    </tr>\n",
       "    <tr>\n",
       "      <th>3</th>\n",
       "      <td>Signal Gift Stores</td>\n",
       "      <td>10124</td>\n",
       "      <td>2003-05-21</td>\n",
       "      <td>Shipped</td>\n",
       "    </tr>\n",
       "    <tr>\n",
       "      <th>4</th>\n",
       "      <td>Signal Gift Stores</td>\n",
       "      <td>10278</td>\n",
       "      <td>2004-08-06</td>\n",
       "      <td>Shipped</td>\n",
       "    </tr>\n",
       "  </tbody>\n",
       "</table>\n",
       "</div>"
      ],
      "text/plain": [
       "                    0      1           2        3\n",
       "0   Atelier graphique  10123  2003-05-20  Shipped\n",
       "1   Atelier graphique  10298  2004-09-27  Shipped\n",
       "2   Atelier graphique  10345  2004-11-25  Shipped\n",
       "3  Signal Gift Stores  10124  2003-05-21  Shipped\n",
       "4  Signal Gift Stores  10278  2004-08-06  Shipped"
      ]
     },
     "execution_count": 11,
     "metadata": {},
     "output_type": "execute_result"
    }
   ],
   "source": [
    "# Your code here\n",
    "cur.execute('''select customerName, orderNumber, orderDate, status \n",
    "                FROM customers \n",
    "                JOIN orders \n",
    "                USING(customerNumber);''')\n",
    "df = pd.DataFrame(cur.fetchall())\n",
    "print('Number of results',len(df))\n",
    "df.head()"
   ]
  },
  {
   "cell_type": "markdown",
   "metadata": {},
   "source": [
    "## Orders and their Order Details (another One-to-Many join)\n",
    "\n",
    "Return a list of orders. For each order return a record for each order detail within the order."
   ]
  },
  {
   "cell_type": "code",
   "execution_count": 13,
   "metadata": {},
   "outputs": [
    {
     "name": "stdout",
     "output_type": "stream",
     "text": [
      "Number of results 326\n"
     ]
    },
    {
     "data": {
      "text/html": [
       "<div>\n",
       "<style scoped>\n",
       "    .dataframe tbody tr th:only-of-type {\n",
       "        vertical-align: middle;\n",
       "    }\n",
       "\n",
       "    .dataframe tbody tr th {\n",
       "        vertical-align: top;\n",
       "    }\n",
       "\n",
       "    .dataframe thead th {\n",
       "        text-align: right;\n",
       "    }\n",
       "</style>\n",
       "<table border=\"1\" class=\"dataframe\">\n",
       "  <thead>\n",
       "    <tr style=\"text-align: right;\">\n",
       "      <th></th>\n",
       "      <th>0</th>\n",
       "      <th>1</th>\n",
       "      <th>2</th>\n",
       "      <th>3</th>\n",
       "      <th>4</th>\n",
       "      <th>5</th>\n",
       "      <th>6</th>\n",
       "    </tr>\n",
       "  </thead>\n",
       "  <tbody>\n",
       "    <tr>\n",
       "      <th>0</th>\n",
       "      <td>10100</td>\n",
       "      <td>2003-01-06</td>\n",
       "      <td>2003-01-13</td>\n",
       "      <td>2003-01-10</td>\n",
       "      <td>Shipped</td>\n",
       "      <td></td>\n",
       "      <td>363</td>\n",
       "    </tr>\n",
       "    <tr>\n",
       "      <th>1</th>\n",
       "      <td>10101</td>\n",
       "      <td>2003-01-09</td>\n",
       "      <td>2003-01-18</td>\n",
       "      <td>2003-01-11</td>\n",
       "      <td>Shipped</td>\n",
       "      <td>Check on availability.</td>\n",
       "      <td>128</td>\n",
       "    </tr>\n",
       "    <tr>\n",
       "      <th>2</th>\n",
       "      <td>10102</td>\n",
       "      <td>2003-01-10</td>\n",
       "      <td>2003-01-18</td>\n",
       "      <td>2003-01-14</td>\n",
       "      <td>Shipped</td>\n",
       "      <td></td>\n",
       "      <td>181</td>\n",
       "    </tr>\n",
       "    <tr>\n",
       "      <th>3</th>\n",
       "      <td>10103</td>\n",
       "      <td>2003-01-29</td>\n",
       "      <td>2003-02-07</td>\n",
       "      <td>2003-02-02</td>\n",
       "      <td>Shipped</td>\n",
       "      <td></td>\n",
       "      <td>121</td>\n",
       "    </tr>\n",
       "    <tr>\n",
       "      <th>4</th>\n",
       "      <td>10104</td>\n",
       "      <td>2003-01-31</td>\n",
       "      <td>2003-02-09</td>\n",
       "      <td>2003-02-01</td>\n",
       "      <td>Shipped</td>\n",
       "      <td></td>\n",
       "      <td>141</td>\n",
       "    </tr>\n",
       "  </tbody>\n",
       "</table>\n",
       "</div>"
      ],
      "text/plain": [
       "       0           1           2           3        4                       5  \\\n",
       "0  10100  2003-01-06  2003-01-13  2003-01-10  Shipped                           \n",
       "1  10101  2003-01-09  2003-01-18  2003-01-11  Shipped  Check on availability.   \n",
       "2  10102  2003-01-10  2003-01-18  2003-01-14  Shipped                           \n",
       "3  10103  2003-01-29  2003-02-07  2003-02-02  Shipped                           \n",
       "4  10104  2003-01-31  2003-02-09  2003-02-01  Shipped                           \n",
       "\n",
       "     6  \n",
       "0  363  \n",
       "1  128  \n",
       "2  181  \n",
       "3  121  \n",
       "4  141  "
      ]
     },
     "execution_count": 13,
     "metadata": {},
     "output_type": "execute_result"
    }
   ],
   "source": [
    "# Your code here\n",
    "cur.execute('''SELECT * \n",
    "                FROM orders \n",
    "                ;''')\n",
    "df = pd.DataFrame(cur.fetchall())\n",
    "print('Number of results',len(df))\n",
    "df.head()"
   ]
  },
  {
   "cell_type": "markdown",
   "metadata": {},
   "source": [
    "## Orders, Order details and Product Details (a Many-to-Many Join)"
   ]
  },
  {
   "cell_type": "markdown",
   "metadata": {},
   "source": [
    "Return a list of the orders with the the order information, and all the product information for each product in the order. "
   ]
  },
  {
   "cell_type": "code",
   "execution_count": 14,
   "metadata": {},
   "outputs": [
    {
     "name": "stdout",
     "output_type": "stream",
     "text": [
      "Number of results 2996\n"
     ]
    },
    {
     "data": {
      "text/html": [
       "<div>\n",
       "<style scoped>\n",
       "    .dataframe tbody tr th:only-of-type {\n",
       "        vertical-align: middle;\n",
       "    }\n",
       "\n",
       "    .dataframe tbody tr th {\n",
       "        vertical-align: top;\n",
       "    }\n",
       "\n",
       "    .dataframe thead th {\n",
       "        text-align: right;\n",
       "    }\n",
       "</style>\n",
       "<table border=\"1\" class=\"dataframe\">\n",
       "  <thead>\n",
       "    <tr style=\"text-align: right;\">\n",
       "      <th></th>\n",
       "      <th>0</th>\n",
       "      <th>1</th>\n",
       "      <th>2</th>\n",
       "      <th>3</th>\n",
       "      <th>4</th>\n",
       "      <th>5</th>\n",
       "      <th>6</th>\n",
       "      <th>7</th>\n",
       "      <th>8</th>\n",
       "      <th>9</th>\n",
       "      <th>10</th>\n",
       "      <th>11</th>\n",
       "      <th>12</th>\n",
       "      <th>13</th>\n",
       "      <th>14</th>\n",
       "      <th>15</th>\n",
       "      <th>16</th>\n",
       "      <th>17</th>\n",
       "      <th>18</th>\n",
       "    </tr>\n",
       "  </thead>\n",
       "  <tbody>\n",
       "    <tr>\n",
       "      <th>0</th>\n",
       "      <td>10100</td>\n",
       "      <td>2003-01-06</td>\n",
       "      <td>2003-01-13</td>\n",
       "      <td>2003-01-10</td>\n",
       "      <td>Shipped</td>\n",
       "      <td></td>\n",
       "      <td>363</td>\n",
       "      <td>S18_1749</td>\n",
       "      <td>30</td>\n",
       "      <td>136.00</td>\n",
       "      <td>3</td>\n",
       "      <td>1917 Grand Touring Sedan</td>\n",
       "      <td>Vintage Cars</td>\n",
       "      <td>1:18</td>\n",
       "      <td>Welly Diecast Productions</td>\n",
       "      <td>This 1:18 scale replica of the 1917 Grand Tour...</td>\n",
       "      <td>2724</td>\n",
       "      <td>86.70</td>\n",
       "      <td>170.00</td>\n",
       "    </tr>\n",
       "    <tr>\n",
       "      <th>1</th>\n",
       "      <td>10100</td>\n",
       "      <td>2003-01-06</td>\n",
       "      <td>2003-01-13</td>\n",
       "      <td>2003-01-10</td>\n",
       "      <td>Shipped</td>\n",
       "      <td></td>\n",
       "      <td>363</td>\n",
       "      <td>S18_2248</td>\n",
       "      <td>50</td>\n",
       "      <td>55.09</td>\n",
       "      <td>2</td>\n",
       "      <td>1911 Ford Town Car</td>\n",
       "      <td>Vintage Cars</td>\n",
       "      <td>1:18</td>\n",
       "      <td>Motor City Art Classics</td>\n",
       "      <td>Features opening hood, opening doors, opening ...</td>\n",
       "      <td>540</td>\n",
       "      <td>33.30</td>\n",
       "      <td>60.54</td>\n",
       "    </tr>\n",
       "    <tr>\n",
       "      <th>2</th>\n",
       "      <td>10100</td>\n",
       "      <td>2003-01-06</td>\n",
       "      <td>2003-01-13</td>\n",
       "      <td>2003-01-10</td>\n",
       "      <td>Shipped</td>\n",
       "      <td></td>\n",
       "      <td>363</td>\n",
       "      <td>S18_4409</td>\n",
       "      <td>22</td>\n",
       "      <td>75.46</td>\n",
       "      <td>4</td>\n",
       "      <td>1932 Alfa Romeo 8C2300 Spider Sport</td>\n",
       "      <td>Vintage Cars</td>\n",
       "      <td>1:18</td>\n",
       "      <td>Exoto Designs</td>\n",
       "      <td>This 1:18 scale precision die cast replica fea...</td>\n",
       "      <td>6553</td>\n",
       "      <td>43.26</td>\n",
       "      <td>92.03</td>\n",
       "    </tr>\n",
       "    <tr>\n",
       "      <th>3</th>\n",
       "      <td>10100</td>\n",
       "      <td>2003-01-06</td>\n",
       "      <td>2003-01-13</td>\n",
       "      <td>2003-01-10</td>\n",
       "      <td>Shipped</td>\n",
       "      <td></td>\n",
       "      <td>363</td>\n",
       "      <td>S24_3969</td>\n",
       "      <td>49</td>\n",
       "      <td>35.29</td>\n",
       "      <td>1</td>\n",
       "      <td>1936 Mercedes Benz 500k Roadster</td>\n",
       "      <td>Vintage Cars</td>\n",
       "      <td>1:24</td>\n",
       "      <td>Red Start Diecast</td>\n",
       "      <td>This model features grille-mounted chrome horn...</td>\n",
       "      <td>2081</td>\n",
       "      <td>21.75</td>\n",
       "      <td>41.03</td>\n",
       "    </tr>\n",
       "    <tr>\n",
       "      <th>4</th>\n",
       "      <td>10101</td>\n",
       "      <td>2003-01-09</td>\n",
       "      <td>2003-01-18</td>\n",
       "      <td>2003-01-11</td>\n",
       "      <td>Shipped</td>\n",
       "      <td>Check on availability.</td>\n",
       "      <td>128</td>\n",
       "      <td>S18_2325</td>\n",
       "      <td>25</td>\n",
       "      <td>108.06</td>\n",
       "      <td>4</td>\n",
       "      <td>1932 Model A Ford J-Coupe</td>\n",
       "      <td>Vintage Cars</td>\n",
       "      <td>1:18</td>\n",
       "      <td>Autoart Studio Design</td>\n",
       "      <td>This model features grille-mounted chrome horn...</td>\n",
       "      <td>9354</td>\n",
       "      <td>58.48</td>\n",
       "      <td>127.13</td>\n",
       "    </tr>\n",
       "  </tbody>\n",
       "</table>\n",
       "</div>"
      ],
      "text/plain": [
       "      0           1           2           3        4                       5   \\\n",
       "0  10100  2003-01-06  2003-01-13  2003-01-10  Shipped                           \n",
       "1  10100  2003-01-06  2003-01-13  2003-01-10  Shipped                           \n",
       "2  10100  2003-01-06  2003-01-13  2003-01-10  Shipped                           \n",
       "3  10100  2003-01-06  2003-01-13  2003-01-10  Shipped                           \n",
       "4  10101  2003-01-09  2003-01-18  2003-01-11  Shipped  Check on availability.   \n",
       "\n",
       "    6         7   8       9  10                                   11  \\\n",
       "0  363  S18_1749  30  136.00  3             1917 Grand Touring Sedan   \n",
       "1  363  S18_2248  50   55.09  2                   1911 Ford Town Car   \n",
       "2  363  S18_4409  22   75.46  4  1932 Alfa Romeo 8C2300 Spider Sport   \n",
       "3  363  S24_3969  49   35.29  1     1936 Mercedes Benz 500k Roadster   \n",
       "4  128  S18_2325  25  108.06  4            1932 Model A Ford J-Coupe   \n",
       "\n",
       "             12    13                         14  \\\n",
       "0  Vintage Cars  1:18  Welly Diecast Productions   \n",
       "1  Vintage Cars  1:18    Motor City Art Classics   \n",
       "2  Vintage Cars  1:18              Exoto Designs   \n",
       "3  Vintage Cars  1:24          Red Start Diecast   \n",
       "4  Vintage Cars  1:18      Autoart Studio Design   \n",
       "\n",
       "                                                  15    16     17      18  \n",
       "0  This 1:18 scale replica of the 1917 Grand Tour...  2724  86.70  170.00  \n",
       "1  Features opening hood, opening doors, opening ...   540  33.30   60.54  \n",
       "2  This 1:18 scale precision die cast replica fea...  6553  43.26   92.03  \n",
       "3  This model features grille-mounted chrome horn...  2081  21.75   41.03  \n",
       "4  This model features grille-mounted chrome horn...  9354  58.48  127.13  "
      ]
     },
     "execution_count": 14,
     "metadata": {},
     "output_type": "execute_result"
    }
   ],
   "source": [
    "# Your code here\n",
    "cur.execute('''SELECT * \n",
    "                FROM orders \n",
    "                \n",
    "                JOIN orderdetails\n",
    "                USING(orderNumber)\n",
    "                \n",
    "                JOIN products\n",
    "                USING(productCode)\n",
    "                ;''')\n",
    "df = pd.DataFrame(cur.fetchall())\n",
    "print('Number of results',len(df))\n",
    "df.head()"
   ]
  },
  {
   "cell_type": "markdown",
   "metadata": {},
   "source": [
    "## Summary"
   ]
  },
  {
   "cell_type": "markdown",
   "metadata": {},
   "source": [
    "In this lab, you practiced your knowledge on One-to-Many and Many-to-many relationships!"
   ]
  }
 ],
 "metadata": {
  "kernelspec": {
   "display_name": "learn-env",
   "language": "python",
   "name": "learn-env"
  },
  "language_info": {
   "codemirror_mode": {
    "name": "ipython",
    "version": 3
   },
   "file_extension": ".py",
   "mimetype": "text/x-python",
   "name": "python",
   "nbconvert_exporter": "python",
   "pygments_lexer": "ipython3",
   "version": "3.6.6"
  }
 },
 "nbformat": 4,
 "nbformat_minor": 2
}
